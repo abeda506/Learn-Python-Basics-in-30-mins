{
 "cells": [
  {
   "cell_type": "markdown",
   "id": "14d7be3e",
   "metadata": {},
   "source": [
    "# Learn Python Basics Practice Activities"
   ]
  },
  {
   "cell_type": "code",
   "execution_count": 11,
   "id": "be032b92",
   "metadata": {},
   "outputs": [
    {
     "data": {
      "text/plain": [
       "str"
      ]
     },
     "execution_count": 11,
     "metadata": {},
     "output_type": "execute_result"
    }
   ],
   "source": [
    "# Use type() function to pass the string 'Hello, your name!'\n",
    "# Write your code here\n",
    "type(\"Hello, Abeda!\")"
   ]
  },
  {
   "cell_type": "code",
   "execution_count": 12,
   "id": "0056e72e",
   "metadata": {},
   "outputs": [
    {
     "data": {
      "text/plain": [
       "int"
      ]
     },
     "execution_count": 12,
     "metadata": {},
     "output_type": "execute_result"
    }
   ],
   "source": [
    "# Use type() function to see the number is an integer 20\n",
    "# Write your code here\n",
    "\n",
    "type(20)"
   ]
  },
  {
   "cell_type": "code",
   "execution_count": 13,
   "id": "cd653394",
   "metadata": {},
   "outputs": [
    {
     "data": {
      "text/plain": [
       "int"
      ]
     },
     "execution_count": 13,
     "metadata": {},
     "output_type": "execute_result"
    }
   ],
   "source": [
    "# Use type() function to see the number is an integer -5\n",
    "# Write your code here\n",
    "\n",
    "type(-5)\n"
   ]
  },
  {
   "cell_type": "code",
   "execution_count": 14,
   "id": "f5c66f89",
   "metadata": {},
   "outputs": [
    {
     "data": {
      "text/plain": [
       "float"
      ]
     },
     "execution_count": 14,
     "metadata": {},
     "output_type": "execute_result"
    }
   ],
   "source": [
    "# Print the type of 2.5\n",
    "# Write the code here\n",
    "type(2.5)"
   ]
  },
  {
   "cell_type": "code",
   "execution_count": 15,
   "id": "256d5f54",
   "metadata": {},
   "outputs": [
    {
     "data": {
      "text/plain": [
       "float"
      ]
     },
     "execution_count": 15,
     "metadata": {},
     "output_type": "execute_result"
    }
   ],
   "source": [
    "# Print the type of 0.58\n",
    "# Write the code here\n",
    "type(0.58)"
   ]
  },
  {
   "cell_type": "code",
   "execution_count": 16,
   "id": "6548fe53",
   "metadata": {},
   "outputs": [
    {
     "data": {
      "text/plain": [
       "str"
      ]
     },
     "execution_count": 16,
     "metadata": {},
     "output_type": "execute_result"
    }
   ],
   "source": [
    "# Type of \"Hello,I am a data analyst!\" \n",
    "# Write the code here\n",
    "\n",
    "type(\"Hello,I am a data analyst!\")"
   ]
  },
  {
   "cell_type": "code",
   "execution_count": 17,
   "id": "43f590df",
   "metadata": {},
   "outputs": [
    {
     "data": {
      "text/plain": [
       "138"
      ]
     },
     "execution_count": 17,
     "metadata": {},
     "output_type": "execute_result"
    }
   ],
   "source": [
    "# Addition operation expression\n",
    "\n",
    "22 + 43 + 73"
   ]
  },
  {
   "cell_type": "code",
   "execution_count": 18,
   "id": "9f5fbad9",
   "metadata": {},
   "outputs": [
    {
     "data": {
      "text/plain": [
       "90"
      ]
     },
     "execution_count": 18,
     "metadata": {},
     "output_type": "execute_result"
    }
   ],
   "source": [
    "# Multiplication operation expression\n",
    "\n",
    "30 * 3"
   ]
  },
  {
   "cell_type": "code",
   "execution_count": 19,
   "id": "c4e16ec6",
   "metadata": {},
   "outputs": [
    {
     "data": {
      "text/plain": [
       "15"
      ]
     },
     "execution_count": 19,
     "metadata": {},
     "output_type": "execute_result"
    }
   ],
   "source": [
    "# Subtraction operation expression\n",
    "\n",
    "35 - 20"
   ]
  },
  {
   "cell_type": "code",
   "execution_count": 20,
   "id": "eb542ece",
   "metadata": {},
   "outputs": [
    {
     "data": {
      "text/plain": [
       "8.0"
      ]
     },
     "execution_count": 20,
     "metadata": {},
     "output_type": "execute_result"
    }
   ],
   "source": [
    "# Division operation expression\n",
    "\n",
    "40 / 5"
   ]
  },
  {
   "cell_type": "markdown",
   "id": "1079d91a",
   "metadata": {},
   "source": [
    "Congratulations on successfully completing the exercise. Don't lose your momentum; keep practicing."
   ]
  }
 ],
 "metadata": {
  "kernelspec": {
   "display_name": "Python 3 (ipykernel)",
   "language": "python",
   "name": "python3"
  },
  "language_info": {
   "codemirror_mode": {
    "name": "ipython",
    "version": 3
   },
   "file_extension": ".py",
   "mimetype": "text/x-python",
   "name": "python",
   "nbconvert_exporter": "python",
   "pygments_lexer": "ipython3",
   "version": "3.10.9"
  }
 },
 "nbformat": 4,
 "nbformat_minor": 5
}

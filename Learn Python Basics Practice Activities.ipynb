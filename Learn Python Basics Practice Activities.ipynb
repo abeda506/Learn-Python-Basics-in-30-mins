{
 "cells": [
  {
   "cell_type": "markdown",
   "id": "24c2bed9",
   "metadata": {},
   "source": [
    "# Learn Python Basics Practice Activities"
   ]
  },
  {
   "cell_type": "code",
   "execution_count": null,
   "id": "9b545df8",
   "metadata": {},
   "outputs": [],
   "source": [
    "# Use type() function to pass the string 'Hello, your name!'\n",
    "# Write your code here\n"
   ]
  },
  {
   "cell_type": "code",
   "execution_count": 5,
   "id": "f5cbe20f",
   "metadata": {},
   "outputs": [],
   "source": [
    "# Use type() function to see the number is an integer 20\n",
    "# Write your code here\n",
    "\n"
   ]
  },
  {
   "cell_type": "code",
   "execution_count": null,
   "id": "bcf65ae0",
   "metadata": {},
   "outputs": [],
   "source": [
    "# Use type() function to see the number is an integer -5\n",
    "# Write your code here\n",
    "\n"
   ]
  },
  {
   "cell_type": "code",
   "execution_count": null,
   "id": "0f32b4e6",
   "metadata": {},
   "outputs": [],
   "source": [
    "# Print the type of 2.5\n",
    "# Write the code here\n"
   ]
  },
  {
   "cell_type": "code",
   "execution_count": null,
   "id": "4f8663ac",
   "metadata": {},
   "outputs": [],
   "source": [
    "# Print the type of 0.58\n",
    "# Write the code here\n"
   ]
  },
  {
   "cell_type": "code",
   "execution_count": null,
   "id": "a6b3ed0b",
   "metadata": {},
   "outputs": [],
   "source": [
    "# Type of \"Hello,I am a data analyst!\" \n",
    "# Write the code here\n",
    "\n"
   ]
  },
  {
   "cell_type": "code",
   "execution_count": null,
   "id": "84ea7539",
   "metadata": {},
   "outputs": [],
   "source": [
    "# Addition operation expression\n",
    "\n",
    "22 + 43 + 73"
   ]
  },
  {
   "cell_type": "code",
   "execution_count": null,
   "id": "daee576d",
   "metadata": {},
   "outputs": [],
   "source": [
    "# Multiplication operation expression\n",
    "\n",
    "30 * 3"
   ]
  },
  {
   "cell_type": "code",
   "execution_count": null,
   "id": "16ba9073",
   "metadata": {},
   "outputs": [],
   "source": [
    "# Subtraction operation expression\n",
    "\n",
    "35 - 20"
   ]
  },
  {
   "cell_type": "code",
   "execution_count": null,
   "id": "3c8b9ba8",
   "metadata": {},
   "outputs": [],
   "source": [
    "# Division operation expression\n",
    "\n",
    "40 / 5"
   ]
  },
  {
   "cell_type": "markdown",
   "id": "a8f98d88",
   "metadata": {},
   "source": [
    "Congratulations on successfully completing the exercise. Don't lose your momentum; keep practicing."
   ]
  }
 ],
 "metadata": {
  "kernelspec": {
   "display_name": "Python 3 (ipykernel)",
   "language": "python",
   "name": "python3"
  },
  "language_info": {
   "codemirror_mode": {
    "name": "ipython",
    "version": 3
   },
   "file_extension": ".py",
   "mimetype": "text/x-python",
   "name": "python",
   "nbconvert_exporter": "python",
   "pygments_lexer": "ipython3",
   "version": "3.10.9"
  }
 },
 "nbformat": 4,
 "nbformat_minor": 5
}
